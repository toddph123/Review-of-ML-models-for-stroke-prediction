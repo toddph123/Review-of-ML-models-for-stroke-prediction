{
 "cells": [
  {
   "cell_type": "code",
   "execution_count": 1,
   "metadata": {
    "id": "0c71f4e6"
   },
   "outputs": [],
   "source": [
    "import numpy as np\n",
    "import pandas as pd\n",
    "import matplotlib.pyplot as plt\n",
    "import seaborn as sns\n",
    "%matplotlib inline"
   ]
  },
  {
   "cell_type": "code",
   "execution_count": 2,
   "metadata": {
    "id": "1a1d679e"
   },
   "outputs": [],
   "source": [
    "stroke_processed = pd.read_csv('processed_df.csv') # this is the processed DF (from Todd's .ipnb) saved to a csv file"
   ]
  },
  {
   "cell_type": "code",
   "execution_count": 3,
   "metadata": {
    "id": "8e4807ae",
    "outputId": "995d2cc5-ac07-4553-a0b5-13a2995a51b5"
   },
   "outputs": [
    {
     "data": {
      "text/html": [
       "<div>\n",
       "<style scoped>\n",
       "    .dataframe tbody tr th:only-of-type {\n",
       "        vertical-align: middle;\n",
       "    }\n",
       "\n",
       "    .dataframe tbody tr th {\n",
       "        vertical-align: top;\n",
       "    }\n",
       "\n",
       "    .dataframe thead th {\n",
       "        text-align: right;\n",
       "    }\n",
       "</style>\n",
       "<table border=\"1\" class=\"dataframe\">\n",
       "  <thead>\n",
       "    <tr style=\"text-align: right;\">\n",
       "      <th></th>\n",
       "      <th>gender</th>\n",
       "      <th>age</th>\n",
       "      <th>hypertension</th>\n",
       "      <th>heart_disease</th>\n",
       "      <th>ever_married</th>\n",
       "      <th>Residence_type</th>\n",
       "      <th>avg_glucose_level</th>\n",
       "      <th>bmi</th>\n",
       "      <th>stroke</th>\n",
       "      <th>work_type_Never_worked</th>\n",
       "      <th>work_type_Private</th>\n",
       "      <th>work_type_Self-employed</th>\n",
       "      <th>work_type_children</th>\n",
       "      <th>smoking_status_formerly smoked</th>\n",
       "      <th>smoking_status_never smoked</th>\n",
       "      <th>smoking_status_smokes</th>\n",
       "    </tr>\n",
       "  </thead>\n",
       "  <tbody>\n",
       "    <tr>\n",
       "      <th>0</th>\n",
       "      <td>1</td>\n",
       "      <td>67.0</td>\n",
       "      <td>0</td>\n",
       "      <td>1</td>\n",
       "      <td>1</td>\n",
       "      <td>1</td>\n",
       "      <td>228.69</td>\n",
       "      <td>36.6</td>\n",
       "      <td>1</td>\n",
       "      <td>0.0</td>\n",
       "      <td>1.0</td>\n",
       "      <td>0.0</td>\n",
       "      <td>0.0</td>\n",
       "      <td>1.0</td>\n",
       "      <td>0.0</td>\n",
       "      <td>0.0</td>\n",
       "    </tr>\n",
       "    <tr>\n",
       "      <th>1</th>\n",
       "      <td>0</td>\n",
       "      <td>61.0</td>\n",
       "      <td>0</td>\n",
       "      <td>0</td>\n",
       "      <td>1</td>\n",
       "      <td>0</td>\n",
       "      <td>202.21</td>\n",
       "      <td>28.1</td>\n",
       "      <td>1</td>\n",
       "      <td>0.0</td>\n",
       "      <td>0.0</td>\n",
       "      <td>1.0</td>\n",
       "      <td>0.0</td>\n",
       "      <td>0.0</td>\n",
       "      <td>1.0</td>\n",
       "      <td>0.0</td>\n",
       "    </tr>\n",
       "    <tr>\n",
       "      <th>2</th>\n",
       "      <td>1</td>\n",
       "      <td>80.0</td>\n",
       "      <td>0</td>\n",
       "      <td>1</td>\n",
       "      <td>1</td>\n",
       "      <td>0</td>\n",
       "      <td>105.92</td>\n",
       "      <td>32.5</td>\n",
       "      <td>1</td>\n",
       "      <td>0.0</td>\n",
       "      <td>1.0</td>\n",
       "      <td>0.0</td>\n",
       "      <td>0.0</td>\n",
       "      <td>0.0</td>\n",
       "      <td>1.0</td>\n",
       "      <td>0.0</td>\n",
       "    </tr>\n",
       "    <tr>\n",
       "      <th>3</th>\n",
       "      <td>0</td>\n",
       "      <td>49.0</td>\n",
       "      <td>0</td>\n",
       "      <td>0</td>\n",
       "      <td>1</td>\n",
       "      <td>1</td>\n",
       "      <td>171.23</td>\n",
       "      <td>34.4</td>\n",
       "      <td>1</td>\n",
       "      <td>0.0</td>\n",
       "      <td>1.0</td>\n",
       "      <td>0.0</td>\n",
       "      <td>0.0</td>\n",
       "      <td>0.0</td>\n",
       "      <td>0.0</td>\n",
       "      <td>1.0</td>\n",
       "    </tr>\n",
       "    <tr>\n",
       "      <th>4</th>\n",
       "      <td>0</td>\n",
       "      <td>79.0</td>\n",
       "      <td>1</td>\n",
       "      <td>0</td>\n",
       "      <td>1</td>\n",
       "      <td>0</td>\n",
       "      <td>174.12</td>\n",
       "      <td>24.0</td>\n",
       "      <td>1</td>\n",
       "      <td>0.0</td>\n",
       "      <td>0.0</td>\n",
       "      <td>1.0</td>\n",
       "      <td>0.0</td>\n",
       "      <td>0.0</td>\n",
       "      <td>1.0</td>\n",
       "      <td>0.0</td>\n",
       "    </tr>\n",
       "  </tbody>\n",
       "</table>\n",
       "</div>"
      ],
      "text/plain": [
       "   gender   age  hypertension  heart_disease  ever_married  Residence_type  \\\n",
       "0       1  67.0             0              1             1               1   \n",
       "1       0  61.0             0              0             1               0   \n",
       "2       1  80.0             0              1             1               0   \n",
       "3       0  49.0             0              0             1               1   \n",
       "4       0  79.0             1              0             1               0   \n",
       "\n",
       "   avg_glucose_level   bmi  stroke  work_type_Never_worked  work_type_Private  \\\n",
       "0             228.69  36.6       1                     0.0                1.0   \n",
       "1             202.21  28.1       1                     0.0                0.0   \n",
       "2             105.92  32.5       1                     0.0                1.0   \n",
       "3             171.23  34.4       1                     0.0                1.0   \n",
       "4             174.12  24.0       1                     0.0                0.0   \n",
       "\n",
       "   work_type_Self-employed  work_type_children  \\\n",
       "0                      0.0                 0.0   \n",
       "1                      1.0                 0.0   \n",
       "2                      0.0                 0.0   \n",
       "3                      0.0                 0.0   \n",
       "4                      1.0                 0.0   \n",
       "\n",
       "   smoking_status_formerly smoked  smoking_status_never smoked  \\\n",
       "0                             1.0                          0.0   \n",
       "1                             0.0                          1.0   \n",
       "2                             0.0                          1.0   \n",
       "3                             0.0                          0.0   \n",
       "4                             0.0                          1.0   \n",
       "\n",
       "   smoking_status_smokes  \n",
       "0                    0.0  \n",
       "1                    0.0  \n",
       "2                    0.0  \n",
       "3                    1.0  \n",
       "4                    0.0  "
      ]
     },
     "metadata": {},
     "output_type": "display_data"
    },
    {
     "name": "stdout",
     "output_type": "stream",
     "text": [
      "Features:  ['gender', 'age', 'hypertension', 'heart_disease', 'ever_married', 'Residence_type', 'avg_glucose_level', 'bmi', 'work_type_Never_worked', 'work_type_Private', 'work_type_Self-employed', 'work_type_children']\n",
      "Target: stroke\n"
     ]
    }
   ],
   "source": [
    "stroke = stroke_processed.copy()\n",
    "display(stroke.head())\n",
    "\n",
    "non_indep_vars = [\n",
    "    'stroke',  # this is the target\n",
    "    'smoking_status_formerly smoked', # we've decided to drop smoking_status column\n",
    "    'smoking_status_never smoked',\n",
    "    'smoking_status_smokes'\n",
    "]\n",
    "\n",
    "indep_vars = stroke.drop(columns = non_indep_vars) # features\n",
    "dep_var = stroke.stroke   # target\n",
    "\n",
    "print('Features: ', list(indep_vars.columns))\n",
    "print('Target:',  dep_var.name)"
   ]
  },
  {
   "cell_type": "markdown",
   "metadata": {
    "id": "6a6a77e8"
   },
   "source": [
    "#### Prepare undersample data"
   ]
  },
  {
   "cell_type": "code",
   "execution_count": 4,
   "metadata": {
    "id": "3913946b",
    "outputId": "962c2c23-7af6-40d9-db9b-c9b95f6613ee"
   },
   "outputs": [
    {
     "name": "stdout",
     "output_type": "stream",
     "text": [
      "(498, 12)\n",
      "(498,)\n",
      "Train data stroke count\n"
     ]
    },
    {
     "data": {
      "text/plain": [
       "0    175\n",
       "1    173\n",
       "Name: stroke, dtype: int64"
      ]
     },
     "metadata": {},
     "output_type": "display_data"
    },
    {
     "name": "stdout",
     "output_type": "stream",
     "text": [
      "Test data stroke count\n"
     ]
    },
    {
     "data": {
      "text/plain": [
       "1    76\n",
       "0    74\n",
       "Name: stroke, dtype: int64"
      ]
     },
     "metadata": {},
     "output_type": "display_data"
    }
   ],
   "source": [
    "from imblearn.under_sampling import RandomUnderSampler\n",
    "\n",
    "undersampler = RandomUnderSampler(random_state = 41)\n",
    "X_und, y_und = undersampler.fit_resample(indep_vars, dep_var)\n",
    "print(X_und.shape)\n",
    "print(y_und.shape)\n",
    "\n",
    "# split and scale data\n",
    "from sklearn.model_selection import train_test_split\n",
    "X_train, X_test, y_train, y_test = train_test_split(X_und, y_und, test_size=0.3, random_state=41)\n",
    "\n",
    "print('Train data stroke count')\n",
    "display(y_train.value_counts())\n",
    "print('Test data stroke count')\n",
    "display(y_test.value_counts())"
   ]
  },
  {
   "cell_type": "markdown",
   "metadata": {
    "id": "8b77726d"
   },
   "source": [
    "#### Logistic Regression"
   ]
  },
  {
   "cell_type": "code",
   "execution_count": 5,
   "metadata": {
    "id": "0f0ea666"
   },
   "outputs": [],
   "source": [
    "from sklearn.pipeline import Pipeline\n",
    "from sklearn.model_selection import GridSearchCV\n",
    "from sklearn.preprocessing import StandardScaler\n",
    "from sklearn.linear_model import LogisticRegression\n",
    "\n",
    "feature_names = X_train.columns\n",
    "\n",
    "scaler = StandardScaler()\n",
    "X_train = scaler.fit_transform(X_train)\n",
    "X_test = scaler.transform(X_test)\n",
    "\n",
    "pl_clf = Pipeline([\n",
    "    ( 'classifier', LogisticRegression() )\n",
    "])\n",
    "\n",
    "# GridSearchCV\n",
    "hyperparams = { \n",
    "    'classifier__C': np.linspace(0.0001, 0.01, 50),\n",
    "    'classifier__max_iter': range(80, 111)\n",
    "}\n",
    "\n",
    "gridsearch = GridSearchCV(pl_clf,  hyperparams, n_jobs = -1)\n",
    "\n",
    "# train model\n",
    "_ = gridsearch.fit(X_train, y_train)"
   ]
  },
  {
   "cell_type": "code",
   "execution_count": 6,
   "metadata": {
    "id": "40f882a8",
    "outputId": "f6d1fe51-de83-49de-93cc-f851a9d9d513"
   },
   "outputs": [
    {
     "name": "stdout",
     "output_type": "stream",
     "text": [
      "0.7501449275362319\n",
      "{'classifier__C': 0.002726530612244898, 'classifier__max_iter': 80}\n"
     ]
    }
   ],
   "source": [
    "# predict\n",
    "y_pred = gridsearch.predict(X_test)\n",
    "\n",
    "# best co-efficient\n",
    "print(gridsearch.best_score_)\n",
    "print(gridsearch.best_params_)"
   ]
  },
  {
   "cell_type": "code",
   "execution_count": 7,
   "metadata": {
    "id": "1ac65b97",
    "outputId": "85bdf629-86c9-48ad-aa64-83912206a00e"
   },
   "outputs": [
    {
     "name": "stdout",
     "output_type": "stream",
     "text": [
      "              precision    recall  f1-score   support\n",
      "\n",
      "           0       0.73      0.69      0.71        74\n",
      "           1       0.71      0.75      0.73        76\n",
      "\n",
      "    accuracy                           0.72       150\n",
      "   macro avg       0.72      0.72      0.72       150\n",
      "weighted avg       0.72      0.72      0.72       150\n",
      "\n",
      "51 23 19 57\n",
      "[57, 23]\n",
      "[19, 51]\n"
     ]
    }
   ],
   "source": [
    "# Evaluation metrics\n",
    "\n",
    "from sklearn.metrics import classification_report\n",
    "from sklearn.metrics import confusion_matrix\n",
    "\n",
    "print(classification_report(y_test, y_pred))\n",
    "tn, fp, fn, tp = confusion_matrix(y_test, y_pred).ravel()\n",
    "\n",
    "print(tn, fp, fn, tp)\n",
    "print([tp,fp])\n",
    "print([fn,tn])"
   ]
  },
  {
   "cell_type": "markdown",
   "metadata": {
    "id": "6264e889"
   },
   "source": [
    "#### ============================\n",
    "One way for insurance company to increase revenue is to reduce the number of claims, which in turn relates to the health of policy holders.\n",
    "Can insurance company offer incentives to policy holders to improve their health (hence reduce clains)?\n",
    "\n",
    "If so, which health indicator should be used?\n",
    "\n",
    "Can improvement in a single health indicator reduce the chance of having a stroke?\n",
    "\n",
    "Question 1: Which indicator. \n",
    "\n",
    "We can choose the feature with highest weight learned by ML algo.\n",
    "\n",
    "Question 2: Can improvement in a single indicator reduce the chance of having a stroke?\n",
    "\n",
    "We can try using the test data, improve the indicator (say, lower glucose level) and see if number of people with stroke decreases.\n",
    "#### ============================"
   ]
  },
  {
   "cell_type": "code",
   "execution_count": 9,
   "metadata": {},
   "outputs": [
    {
     "data": {
      "text/plain": [
       "array([[-0.00326018,  0.21090733,  0.03600632,  0.06492108,  0.05360717,\n",
       "        -0.01858163,  0.05407521,  0.00580389,  0.        , -0.00784451,\n",
       "         0.03112709, -0.05485583]])"
      ]
     },
     "execution_count": 9,
     "metadata": {},
     "output_type": "execute_result"
    }
   ],
   "source": [
    "gridsearch.best_estimator_.named_steps['classifier'].coef_"
   ]
  },
  {
   "cell_type": "code",
   "execution_count": 10,
   "metadata": {
    "id": "49ac5419",
    "outputId": "0891287c-bc35-43f0-89d9-c3b6febc43b5"
   },
   "outputs": [
    {
     "name": "stdout",
     "output_type": "stream",
     "text": [
      "Index(['gender', 'age', 'hypertension', 'heart_disease', 'ever_married',\n",
      "       'Residence_type', 'avg_glucose_level', 'bmi', 'work_type_Never_worked',\n",
      "       'work_type_Private', 'work_type_Self-employed', 'work_type_children'],\n",
      "      dtype='object')\n",
      "[[-0.00326018  0.21090733  0.03600632  0.06492108  0.05360717 -0.01858163\n",
      "   0.05407521  0.00580389  0.         -0.00784451  0.03112709 -0.05485583]]\n"
     ]
    },
    {
     "data": {
      "text/html": [
       "<div>\n",
       "<style scoped>\n",
       "    .dataframe tbody tr th:only-of-type {\n",
       "        vertical-align: middle;\n",
       "    }\n",
       "\n",
       "    .dataframe tbody tr th {\n",
       "        vertical-align: top;\n",
       "    }\n",
       "\n",
       "    .dataframe thead th {\n",
       "        text-align: right;\n",
       "    }\n",
       "</style>\n",
       "<table border=\"1\" class=\"dataframe\">\n",
       "  <thead>\n",
       "    <tr style=\"text-align: right;\">\n",
       "      <th></th>\n",
       "      <th>feature</th>\n",
       "      <th>weight</th>\n",
       "    </tr>\n",
       "  </thead>\n",
       "  <tbody>\n",
       "    <tr>\n",
       "      <th>1</th>\n",
       "      <td>age</td>\n",
       "      <td>0.210907</td>\n",
       "    </tr>\n",
       "    <tr>\n",
       "      <th>3</th>\n",
       "      <td>heart_disease</td>\n",
       "      <td>0.064921</td>\n",
       "    </tr>\n",
       "    <tr>\n",
       "      <th>6</th>\n",
       "      <td>avg_glucose_level</td>\n",
       "      <td>0.054075</td>\n",
       "    </tr>\n",
       "    <tr>\n",
       "      <th>4</th>\n",
       "      <td>ever_married</td>\n",
       "      <td>0.053607</td>\n",
       "    </tr>\n",
       "    <tr>\n",
       "      <th>2</th>\n",
       "      <td>hypertension</td>\n",
       "      <td>0.036006</td>\n",
       "    </tr>\n",
       "    <tr>\n",
       "      <th>10</th>\n",
       "      <td>work_type_Self-employed</td>\n",
       "      <td>0.031127</td>\n",
       "    </tr>\n",
       "    <tr>\n",
       "      <th>7</th>\n",
       "      <td>bmi</td>\n",
       "      <td>0.005804</td>\n",
       "    </tr>\n",
       "    <tr>\n",
       "      <th>8</th>\n",
       "      <td>work_type_Never_worked</td>\n",
       "      <td>0.000000</td>\n",
       "    </tr>\n",
       "    <tr>\n",
       "      <th>0</th>\n",
       "      <td>gender</td>\n",
       "      <td>-0.003260</td>\n",
       "    </tr>\n",
       "    <tr>\n",
       "      <th>9</th>\n",
       "      <td>work_type_Private</td>\n",
       "      <td>-0.007845</td>\n",
       "    </tr>\n",
       "    <tr>\n",
       "      <th>5</th>\n",
       "      <td>Residence_type</td>\n",
       "      <td>-0.018582</td>\n",
       "    </tr>\n",
       "    <tr>\n",
       "      <th>11</th>\n",
       "      <td>work_type_children</td>\n",
       "      <td>-0.054856</td>\n",
       "    </tr>\n",
       "  </tbody>\n",
       "</table>\n",
       "</div>"
      ],
      "text/plain": [
       "                    feature    weight\n",
       "1                       age  0.210907\n",
       "3             heart_disease  0.064921\n",
       "6         avg_glucose_level  0.054075\n",
       "4              ever_married  0.053607\n",
       "2              hypertension  0.036006\n",
       "10  work_type_Self-employed  0.031127\n",
       "7                       bmi  0.005804\n",
       "8    work_type_Never_worked  0.000000\n",
       "0                    gender -0.003260\n",
       "9         work_type_Private -0.007845\n",
       "5            Residence_type -0.018582\n",
       "11       work_type_children -0.054856"
      ]
     },
     "execution_count": 10,
     "metadata": {},
     "output_type": "execute_result"
    }
   ],
   "source": [
    "# feature and weight\n",
    "coefs = gridsearch.best_estimator_.named_steps['classifier'].coef_\n",
    "features = feature_names\n",
    "print(features)\n",
    "print(coefs)\n",
    "pd.DataFrame(data = {\n",
    "    'feature': features,\n",
    "    'weight': coefs[0]\n",
    "} ).sort_values(by='weight', ascending = False)"
   ]
  },
  {
   "cell_type": "markdown",
   "metadata": {
    "id": "70d791c9"
   },
   "source": [
    "### Pick avg_glucose_level\n",
    "### avg_glucose_level (unit: milligrams per decilitre) < 126 mg/dL  should be normal, normally 70-99mg/dL for non diabetic person)"
   ]
  },
  {
   "cell_type": "code",
   "execution_count": 11,
   "metadata": {
    "id": "cc9a004e",
    "outputId": "1df12e93-81a1-4398-c439-3fb4da8e86e3"
   },
   "outputs": [
    {
     "data": {
      "text/plain": [
       "(100, 13)"
      ]
     },
     "metadata": {},
     "output_type": "display_data"
    },
    {
     "data": {
      "text/html": [
       "<div>\n",
       "<style scoped>\n",
       "    .dataframe tbody tr th:only-of-type {\n",
       "        vertical-align: middle;\n",
       "    }\n",
       "\n",
       "    .dataframe tbody tr th {\n",
       "        vertical-align: top;\n",
       "    }\n",
       "\n",
       "    .dataframe thead th {\n",
       "        text-align: right;\n",
       "    }\n",
       "</style>\n",
       "<table border=\"1\" class=\"dataframe\">\n",
       "  <thead>\n",
       "    <tr style=\"text-align: right;\">\n",
       "      <th></th>\n",
       "      <th>gender</th>\n",
       "      <th>age</th>\n",
       "      <th>hypertension</th>\n",
       "      <th>heart_disease</th>\n",
       "      <th>ever_married</th>\n",
       "      <th>Residence_type</th>\n",
       "      <th>avg_glucose_level</th>\n",
       "      <th>bmi</th>\n",
       "      <th>stroke</th>\n",
       "      <th>work_type_Never_worked</th>\n",
       "      <th>work_type_Private</th>\n",
       "      <th>work_type_Self-employed</th>\n",
       "      <th>work_type_children</th>\n",
       "    </tr>\n",
       "  </thead>\n",
       "  <tbody>\n",
       "    <tr>\n",
       "      <th>0</th>\n",
       "      <td>1</td>\n",
       "      <td>67.0</td>\n",
       "      <td>0</td>\n",
       "      <td>1</td>\n",
       "      <td>1</td>\n",
       "      <td>1</td>\n",
       "      <td>228.69</td>\n",
       "      <td>36.6</td>\n",
       "      <td>1</td>\n",
       "      <td>0.0</td>\n",
       "      <td>1.0</td>\n",
       "      <td>0.0</td>\n",
       "      <td>0.0</td>\n",
       "    </tr>\n",
       "    <tr>\n",
       "      <th>1</th>\n",
       "      <td>0</td>\n",
       "      <td>61.0</td>\n",
       "      <td>0</td>\n",
       "      <td>0</td>\n",
       "      <td>1</td>\n",
       "      <td>0</td>\n",
       "      <td>202.21</td>\n",
       "      <td>28.1</td>\n",
       "      <td>1</td>\n",
       "      <td>0.0</td>\n",
       "      <td>0.0</td>\n",
       "      <td>1.0</td>\n",
       "      <td>0.0</td>\n",
       "    </tr>\n",
       "    <tr>\n",
       "      <th>3</th>\n",
       "      <td>0</td>\n",
       "      <td>49.0</td>\n",
       "      <td>0</td>\n",
       "      <td>0</td>\n",
       "      <td>1</td>\n",
       "      <td>1</td>\n",
       "      <td>171.23</td>\n",
       "      <td>34.4</td>\n",
       "      <td>1</td>\n",
       "      <td>0.0</td>\n",
       "      <td>1.0</td>\n",
       "      <td>0.0</td>\n",
       "      <td>0.0</td>\n",
       "    </tr>\n",
       "    <tr>\n",
       "      <th>4</th>\n",
       "      <td>0</td>\n",
       "      <td>79.0</td>\n",
       "      <td>1</td>\n",
       "      <td>0</td>\n",
       "      <td>1</td>\n",
       "      <td>0</td>\n",
       "      <td>174.12</td>\n",
       "      <td>24.0</td>\n",
       "      <td>1</td>\n",
       "      <td>0.0</td>\n",
       "      <td>0.0</td>\n",
       "      <td>1.0</td>\n",
       "      <td>0.0</td>\n",
       "    </tr>\n",
       "    <tr>\n",
       "      <th>5</th>\n",
       "      <td>1</td>\n",
       "      <td>81.0</td>\n",
       "      <td>0</td>\n",
       "      <td>0</td>\n",
       "      <td>1</td>\n",
       "      <td>1</td>\n",
       "      <td>186.21</td>\n",
       "      <td>29.0</td>\n",
       "      <td>1</td>\n",
       "      <td>0.0</td>\n",
       "      <td>1.0</td>\n",
       "      <td>0.0</td>\n",
       "      <td>0.0</td>\n",
       "    </tr>\n",
       "  </tbody>\n",
       "</table>\n",
       "</div>"
      ],
      "text/plain": [
       "   gender   age  hypertension  heart_disease  ever_married  Residence_type  \\\n",
       "0       1  67.0             0              1             1               1   \n",
       "1       0  61.0             0              0             1               0   \n",
       "3       0  49.0             0              0             1               1   \n",
       "4       0  79.0             1              0             1               0   \n",
       "5       1  81.0             0              0             1               1   \n",
       "\n",
       "   avg_glucose_level   bmi  stroke  work_type_Never_worked  work_type_Private  \\\n",
       "0             228.69  36.6       1                     0.0                1.0   \n",
       "1             202.21  28.1       1                     0.0                0.0   \n",
       "3             171.23  34.4       1                     0.0                1.0   \n",
       "4             174.12  24.0       1                     0.0                0.0   \n",
       "5             186.21  29.0       1                     0.0                1.0   \n",
       "\n",
       "   work_type_Self-employed  work_type_children  \n",
       "0                      0.0                 0.0  \n",
       "1                      1.0                 0.0  \n",
       "3                      0.0                 0.0  \n",
       "4                      1.0                 0.0  \n",
       "5                      0.0                 0.0  "
      ]
     },
     "metadata": {},
     "output_type": "display_data"
    }
   ],
   "source": [
    "stroke = stroke_processed.copy()\n",
    "non_indep_vars = [\n",
    "    'smoking_status_formerly smoked', # we've decided to drop smoking_status column\n",
    "    'smoking_status_never smoked',\n",
    "    'smoking_status_smokes'\n",
    "]\n",
    "\n",
    "stroke = stroke.drop(columns = non_indep_vars) # features\n",
    "\n",
    "# people with high avg_glucose_level and have stroke\n",
    "stroke_pos = stroke[(stroke.stroke == 1) & (stroke.avg_glucose_level > 126)]\n",
    "\n",
    "display(stroke_pos.shape)\n",
    "display(stroke_pos.head())"
   ]
  },
  {
   "cell_type": "code",
   "execution_count": 12,
   "metadata": {
    "id": "a266110c",
    "outputId": "df3ede7a-d485-4a75-d1e6-f817ba05793e"
   },
   "outputs": [
    {
     "data": {
      "text/plain": [
       "97"
      ]
     },
     "execution_count": 12,
     "metadata": {},
     "output_type": "execute_result"
    }
   ],
   "source": [
    "# predict using original data\n",
    "X_stroke_pos_test = stroke_pos.drop(columns = 'stroke')\n",
    "y_stroke_pos_test = stroke.stroke\n",
    "\n",
    "X_stroke_pos_test_scaled = scaler.transform(X_stroke_pos_test)\n",
    "y_stroke_pos_pred = gridsearch.predict(X_stroke_pos_test_scaled)\n",
    "\n",
    "pd.Series(y_stroke_pos_pred).value_counts()[1]"
   ]
  },
  {
   "cell_type": "code",
   "execution_count": 13,
   "metadata": {
    "id": "0ee9e193",
    "outputId": "5225fcf7-3fcf-4df8-a98b-a953b0578e0d"
   },
   "outputs": [
    {
     "data": {
      "text/plain": [
       "<AxesSubplot:xlabel='Avg glucose', ylabel='People with stroke'>"
      ]
     },
     "execution_count": 13,
     "metadata": {},
     "output_type": "execute_result"
    },
    {
     "data": {
      "image/png": "[encoded data removed]",
      "text/plain": [
       "<Figure size 432x288 with 1 Axes>"
      ]
     },
     "metadata": {
      "needs_background": "light"
     },
     "output_type": "display_data"
    }
   ],
   "source": [
    "g_levels = []\n",
    "stroke_cnts = []\n",
    "for gl in range(126, 89, -1):\n",
    "    X_stroke_pos_test2 = X_stroke_pos_test.copy()\n",
    "    X_stroke_pos_test2.avg_glucose_level = gl\n",
    "\n",
    "    X_stroke_pos_test2_scaled = scaler.transform(X_stroke_pos_test2)\n",
    "    y_stroke_pos_pred2 = gridsearch.predict(X_stroke_pos_test2_scaled)\n",
    "\n",
    "    n_strokes = pd.Series(y_stroke_pos_pred2).value_counts()[1]\n",
    "    g_levels.append(gl)\n",
    "    stroke_cnts.append(n_strokes)\n",
    "\n",
    "df = pd.DataFrame( data = {\n",
    "    'Avg glucose': g_levels,\n",
    "    'People with stroke': stroke_cnts\n",
    "})\n",
    "\n",
    "sns.lineplot(data = df, x = 'Avg glucose', y = 'People with stroke')"
   ]
  },
  {
   "cell_type": "markdown",
   "metadata": {
    "id": "b159c1db"
   },
   "source": [
    "#### According to the ML model, improvement of a single indicator (avg_glucose_level)\n",
    "#### can reduce the chance of getting a stroke"
   ]
  }
 ],
 "metadata": {
  "colab": {
   "name": "incentive.ipynb",
   "provenance": []
  },
  "kernelspec": {
   "display_name": "Python 3",
   "language": "python",
   "name": "python3"
  },
  "language_info": {
   "codemirror_mode": {
    "name": "ipython",
    "version": 3
   },
   "file_extension": ".py",
   "mimetype": "text/x-python",
   "name": "python",
   "nbconvert_exporter": "python",
   "pygments_lexer": "ipython3",
   "version": "3.8.5"
  }
 },
 "nbformat": 4,
 "nbformat_minor": 5
}
